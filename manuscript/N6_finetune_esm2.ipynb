{
 "cells": [
  {
   "cell_type": "markdown",
   "id": "b937eed2",
   "metadata": {},
   "source": [
    "# Fine-tuning ESM2 on promiscuous esterases"
   ]
  },
  {
   "cell_type": "markdown",
   "id": "c6d149cf",
   "metadata": {},
   "source": []
  },
  {
   "cell_type": "code",
   "execution_count": null,
   "id": "bfbbb16d",
   "metadata": {},
   "outputs": [],
   "source": [
    "from transformers import EsmTokenizer, EsmForMaskedLM, TrainingArguments, Trainer\n",
    "import torch\n",
    "\n",
    "# Choose the ESM2 model size (e.g., 'esm2_t33_650M_UR50D', 'esm2_t12_35M_UR50D')\n",
    "# Larger models are more powerful but require more resources.\n",
    "model_name = \"facebook/esm2_t33_650M_UR50D\"\n",
    "tokenizer = EsmTokenizer.from_pretrained(model_name)\n",
    "model = EsmForMaskedLM.from_pretrained(model_name)"
   ]
  }
 ],
 "metadata": {
  "language_info": {
   "name": "python"
  }
 },
 "nbformat": 4,
 "nbformat_minor": 5
}
