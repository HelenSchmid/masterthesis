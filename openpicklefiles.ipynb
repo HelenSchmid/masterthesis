{
 "cells": [
  {
   "cell_type": "code",
   "execution_count": 4,
   "id": "87ebf32a",
   "metadata": {},
   "outputs": [
    {
     "data": {
      "text/plain": [
       "'/nvme2/helen/masterthesis/filteringpipeline/vina/Q09LX1/Q09LX1.pdb'"
      ]
     },
     "execution_count": 4,
     "metadata": {},
     "output_type": "execute_result"
    }
   ],
   "source": [
    "import pandas as pd\n",
    "\n",
    "df = pd.read_pickle('/nvme2/helen/masterthesis/filteringpipeline/vina.pkl')\n",
    "df.output_dir[0]"
   ]
  }
 ],
 "metadata": {
  "kernelspec": {
   "display_name": "docko",
   "language": "python",
   "name": "python3"
  },
  "language_info": {
   "codemirror_mode": {
    "name": "ipython",
    "version": 3
   },
   "file_extension": ".py",
   "mimetype": "text/x-python",
   "name": "python",
   "nbconvert_exporter": "python",
   "pygments_lexer": "ipython3",
   "version": "3.10.14"
  }
 },
 "nbformat": 4,
 "nbformat_minor": 5
}
