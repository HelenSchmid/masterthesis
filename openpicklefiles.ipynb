{
 "cells": [
  {
   "cell_type": "code",
   "execution_count": 4,
   "id": "87ebf32a",
   "metadata": {},
   "outputs": [
    {
     "data": {
      "text/plain": [
       "'/nvme2/helen/masterthesis/filteringpipeline/vina/Q09LX1/Q09LX1.pdb'"
      ]
     },
     "execution_count": 4,
     "metadata": {},
     "output_type": "execute_result"
    }
   ],
   "source": [
    "import pandas as pd\n",
    "\n",
    "df = pd.read_pickle('/nvme2/helen/masterthesis/filteringpipeline/vina.pkl')\n",
    "df.output_dir[0]"
   ]
  },
  {
   "cell_type": "code",
   "execution_count": 5,
   "id": "ef49f5e6",
   "metadata": {},
   "outputs": [],
   "source": [
    "from pathlib import Path\n",
    "\n",
    "base_dir = Path.cwd()\n",
    "data_path =  base_dir / 'manuscript/data'\n",
    "data_martinez = pd.read_csv(data_path/'SI_Martinez_et_al_S3.csv', sep=';', encoding='ISO-8859-1') \n",
    "data_comptox = pd.read_csv(data_path/'substrate_search_similarity_analysis_comptox.csv', sep=';') \n",
    "data_lit = pd.read_csv(data_path/'substrate_search_similarity_analysis_lit.csv', sep=';', encoding='ISO-8859-1') "
   ]
  }
 ],
 "metadata": {
  "kernelspec": {
   "display_name": "docko",
   "language": "python",
   "name": "python3"
  },
  "language_info": {
   "codemirror_mode": {
    "name": "ipython",
    "version": 3
   },
   "file_extension": ".py",
   "mimetype": "text/x-python",
   "name": "python",
   "nbconvert_exporter": "python",
   "pygments_lexer": "ipython3",
   "version": "3.10.14"
  }
 },
 "nbformat": 4,
 "nbformat_minor": 5
}
